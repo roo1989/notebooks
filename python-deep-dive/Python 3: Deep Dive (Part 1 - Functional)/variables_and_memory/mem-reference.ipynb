{
 "cells": [
  {
   "cell_type": "code",
   "execution_count": 4,
   "metadata": {
    "collapsed": true,
    "pycharm": {
     "name": "#%%\n"
    }
   },
   "outputs": [
    {
     "name": "stdout",
     "output_type": "stream",
     "text": [
      "4402870864\n",
      "0x1066e7a50\n"
     ]
    }
   ],
   "source": [
    "var_1 = 10\n",
    "\n",
    "# Let's get the Base-10 memory address of var_1\n",
    "print(id(var_1))\n",
    "\n",
    "# Let's convert that to a Hexadecimal value of the memory address\n",
    "print(hex(id(var_1)))"
   ]
  }
 ],
 "metadata": {
  "kernelspec": {
   "display_name": "Python 3",
   "language": "python",
   "name": "python3"
  },
  "language_info": {
   "codemirror_mode": {
    "name": "ipython",
    "version": 2
   },
   "file_extension": ".py",
   "mimetype": "text/x-python",
   "name": "python",
   "nbconvert_exporter": "python",
   "pygments_lexer": "ipython2",
   "version": "2.7.6"
  }
 },
 "nbformat": 4,
 "nbformat_minor": 0
}